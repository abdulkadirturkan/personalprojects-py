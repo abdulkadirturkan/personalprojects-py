{
  "nbformat": 4,
  "nbformat_minor": 0,
  "metadata": {
    "colab": {
      "provenance": [],
      "authorship_tag": "ABX9TyPTg5bX3enbAkB1ILB8UNrX",
      "include_colab_link": true
    },
    "kernelspec": {
      "name": "python3",
      "display_name": "Python 3"
    },
    "language_info": {
      "name": "python"
    }
  },
  "cells": [
    {
      "cell_type": "markdown",
      "metadata": {
        "id": "view-in-github",
        "colab_type": "text"
      },
      "source": [
        "<a href=\"https://colab.research.google.com/github/abdulkadirturkan/personalprojects-py/blob/main/turkish_ngram_frequencies.ipynb\" target=\"_parent\"><img src=\"https://colab.research.google.com/assets/colab-badge.svg\" alt=\"Open In Colab\"/></a>"
      ]
    },
    {
      "cell_type": "code",
      "source": [
        "import matplotlib.pyplot as plt\n",
        "import seaborn as sns\n",
        "from collections import Counter"
      ],
      "metadata": {
        "id": "KD0u7tDKy9P8"
      },
      "execution_count": null,
      "outputs": []
    },
    {
      "cell_type": "code",
      "execution_count": null,
      "metadata": {
        "colab": {
          "base_uri": "https://localhost:8080/"
        },
        "id": "DbVAkkMWyOnx",
        "outputId": "1a38df2b-53a4-438c-97ba-d8e73b20b972"
      },
      "outputs": [
        {
          "output_type": "stream",
          "name": "stdout",
          "text": [
            "Monogram Frequencies:\n",
            "Counter({'Ü': 34, 'K': 32, 'J': 23, 'S': 21, 'M': 17, 'G': 17, 'Ş': 13, 'Z': 12, 'N': 12, 'H': 10, 'Ç': 10, 'D': 8, 'A': 8, 'I': 7, 'L': 7, 'F': 6, 'İ': 5, 'T': 4, 'V': 3, 'R': 3, 'U': 3, 'E': 3, 'C': 2, 'P': 2, 'Y': 1, 'O': 1})\n",
            "\n",
            "Digraph Frequencies:\n",
            "Counter({'JÜ': 10, 'JK': 8, 'ÜJ': 6, 'KG': 5, 'HZ': 5, 'ÜÇ': 5, 'ŞÜ': 5, 'MK': 4, 'IG': 4, 'GM': 4, 'GÜ': 4, 'SM': 4, 'ÜŞ': 4, 'MS': 3, 'MÜ': 3, 'ZJ': 3, 'KŞ': 3, 'KN': 3, 'GH': 3, 'ÜG': 3, 'Aİ': 3, 'KM': 2, 'ZN': 2, 'NK': 2, 'ŞK': 2, 'ÜN': 2, 'NH': 2, 'JD': 2, 'KR': 2, 'RÜ': 2, 'MA': 2, 'SJ': 2, 'LS': 2, 'İS': 2, 'SA': 2, 'ÇK': 2, 'KÜ': 2, 'NL': 2, 'LK': 2, 'HD': 2, 'ÇS': 2, 'KU': 2, 'UÜ': 2, 'HM': 2, 'GS': 2, 'İÜ': 2, 'NI': 2, 'FG': 2, 'ÜS': 2, 'SG': 2, 'TK': 2, 'MJ': 2, 'SN': 2, 'EI': 2, 'IZ': 2, 'ZF': 2, 'FŞ': 2, 'DM': 1, 'SV': 1, 'VK': 1, 'KZ': 1, 'KJ': 1, 'JH': 1, 'HT': 1, 'TS': 1, 'MM': 1, 'AÇ': 1, 'ÇM': 1, 'ŞS': 1, 'SZ': 1, 'ZL': 1, 'LL': 1, 'SU': 1, 'Uİ': 1, 'AC': 1, 'CÜ': 1, 'ND': 1, 'DH': 1, 'DN': 1, 'VS': 1, 'SÇ': 1, 'AŞ': 1, 'ŞJ': 1, 'MD': 1, 'DZ': 1, 'AL': 1, 'LM': 1, 'SK': 1, 'MF': 1, 'NS': 1, 'SŞ': 1, 'ŞH': 1, 'DŞ': 1, 'ŞP': 1, 'PS': 1, 'SL': 1, 'LÜ': 1, 'ÜK': 1, 'KÇ': 1, 'SC': 1, 'CÇ': 1, 'SR': 1, 'RA': 1, 'AY': 1, 'YK': 1, 'KO': 1, 'ÜT': 1, 'KV': 1, 'DÇ': 1, 'ÇL': 1, 'ZS': 1, 'IP': 1, 'PE': 1, 'EÜ': 1, 'ÜM': 1, 'Kİ': 1, 'İK': 1, 'KT': 1, 'KE': 1, 'FZ': 1, 'NÜ': 1, 'ÜE': 1, 'JF': 1, 'FT': 1, 'TF': 1, 'ŞF': 1, 'ÜZ': 1, 'ZK': 1})\n",
            "\n",
            "Trigraph Frequencies:\n",
            "Counter({'ÜJK': 6, 'IGM': 4, 'JÜŞ': 4, 'ÜŞÜ': 4, 'ŞÜÇ': 4, 'GMÜ': 3, 'KGÜ': 3, 'JÜJ': 3, 'GHZ': 3, 'JKG': 2, 'NHZ': 2, 'SMK': 2, 'MKR': 2, 'KRÜ': 2, 'MSJ': 2, 'KNL': 2, 'NLK': 2, 'LKG': 2, 'KGH': 2, 'KUÜ': 2, 'UÜJ': 2, 'AİÜ': 2, 'İÜG': 2, 'JÜS': 2, 'ÜSG': 2, 'EIZ': 2, 'DMS': 1, 'MSV': 1, 'SVK': 1, 'VKM': 1, 'KMK': 1, 'MKZ': 1, 'KZN': 1, 'ZNK': 1, 'ŞKJ': 1, 'KJK': 1, 'GÜN': 1, 'ÜNH': 1, 'HZJ': 1, 'ZJD': 1, 'JHT': 1, 'HTS': 1, 'TSM': 1, 'SMM': 1, 'MMA': 1, 'MAÇ': 1, 'AÇM': 1, 'ÇMS': 1, 'SJÜ': 1, 'JKŞ': 1, 'KŞS': 1, 'ŞSZ': 1, 'SZL': 1, 'ZLL': 1, 'LLS': 1, 'LSU': 1, 'SUİ': 1, 'UİS': 1, 'İSA': 1, 'SAC': 1, 'ACÜ': 1, 'CÜÇ': 1, 'ÜÇK': 1, 'ÇKÜ': 1, 'NDH': 1, 'DHD': 1, 'HDN': 1, 'VSÇ': 1, 'SÇS': 1, 'ÇSM': 1, 'SMA': 1, 'MAŞ': 1, 'AŞJ': 1, 'ŞJÜ': 1, 'HMD': 1, 'MDZ': 1, 'DZJ': 1, 'ZJK': 1, 'GÜG': 1, 'ÜGS': 1, 'GSA': 1, 'SAL': 1, 'ALM': 1, 'LMS': 1, 'GSK': 1, 'SKÜ': 1, 'KÜN': 1, 'ÜNI': 1, 'NIG': 1, 'GMF': 1, 'MFG': 1, 'FGH': 1, 'HZN': 1, 'ZNS': 1, 'NSŞ': 1, 'SŞH': 1, 'ŞHD': 1, 'DŞP': 1, 'ŞPS': 1, 'PSL': 1, 'SLÜ': 1, 'LÜK': 1, 'ÜKÇ': 1, 'KÇK': 1, 'ÇKN': 1, 'KNK': 1, 'AİS': 1, 'İSC': 1, 'SCÇ': 1, 'CÇS': 1, 'ÇSR': 1, 'SRA': 1, 'RAY': 1, 'AYK': 1, 'YKO': 1, 'JÜT': 1, 'ÜTK': 1, 'TKM': 1, 'KMJ': 1, 'MJÜ': 1, 'JKV': 1, 'HMJ': 1, 'MJD': 1, 'JDÇ': 1, 'DÇL': 1, 'ÇLS': 1, 'LSN': 1, 'SNH': 1, 'HZS': 1, 'ZSN': 1, 'SNI': 1, 'NIP': 1, 'IPE': 1, 'PEÜ': 1, 'EÜM': 1, 'ÜMK': 1, 'MKİ': 1, 'KİK': 1, 'İKG': 1, 'GÜJ': 1, 'JKT': 1, 'KTK': 1, 'TKŞ': 1, 'KŞK': 1, 'ŞKE': 1, 'KEI': 1, 'IZF': 1, 'ZFZ': 1, 'FZF': 1, 'ZFŞ': 1, 'FŞÜ': 1, 'NÜE': 1, 'ÜEI': 1, 'IZJ': 1, 'ZJF': 1, 'JFT': 1, 'FTF': 1, 'TFŞ': 1, 'FŞF': 1, 'ŞFG': 1, 'FGÜ': 1, 'GÜZ': 1, 'ÜZK': 1, 'ZKŞ': 1})\n",
            "\n",
            "Forthgraph Frequencies:\n",
            "Counter({'JÜŞÜ': 4, 'ÜŞÜÇ': 4, 'IGMÜ': 3, 'JÜJK': 3, 'JKGÜ': 2, 'SMKR': 2, 'MKRÜ': 2, 'KNLK': 2, 'NLKG': 2, 'LKGH': 2, 'KGHZ': 2, 'KUÜJ': 2, 'UÜJK': 2, 'AİÜG': 2, 'JÜSG': 2, 'DMSV': 1, 'MSVK': 1, 'SVKM': 1, 'VKMK': 1, 'KMKZ': 1, 'MKZN': 1, 'KZNK': 1, 'ŞKJK': 1, 'KJKG': 1, 'KGÜN': 1, 'GÜNH': 1, 'ÜNHZ': 1, 'NHZJ': 1, 'HZJD': 1, 'JHTS': 1, 'HTSM': 1, 'TSMM': 1, 'SMMA': 1, 'MMAÇ': 1, 'MAÇM': 1, 'AÇMS': 1, 'ÇMSJ': 1, 'MSJÜ': 1, 'SJÜJ': 1, 'ÜJKŞ': 1, 'JKŞS': 1, 'KŞSZ': 1, 'ŞSZL': 1, 'SZLL': 1, 'ZLLS': 1, 'LLSU': 1, 'LSUİ': 1, 'SUİS': 1, 'UİSA': 1, 'İSAC': 1, 'SACÜ': 1, 'ACÜÇ': 1, 'CÜÇK': 1, 'ÜÇKÜ': 1, 'NDHD': 1, 'DHDN': 1, 'VSÇS': 1, 'SÇSM': 1, 'ÇSMA': 1, 'SMAŞ': 1, 'MAŞJ': 1, 'AŞJÜ': 1, 'ŞJÜJ': 1, 'HMDZ': 1, 'MDZJ': 1, 'DZJK': 1, 'ZJKG': 1, 'KGÜG': 1, 'GÜGS': 1, 'ÜGSA': 1, 'GSAL': 1, 'SALM': 1, 'ALMS': 1, 'LMSJ': 1, 'GSKÜ': 1, 'SKÜN': 1, 'KÜNI': 1, 'ÜNIG': 1, 'NIGM': 1, 'IGMF': 1, 'GMFG': 1, 'MFGH': 1, 'FGHZ': 1, 'GHZN': 1, 'HZNS': 1, 'ZNSŞ': 1, 'NSŞH': 1, 'SŞHD': 1, 'DŞPS': 1, 'ŞPSL': 1, 'PSLÜ': 1, 'SLÜK': 1, 'LÜKÇ': 1, 'ÜKÇK': 1, 'KÇKN': 1, 'ÇKNK': 1, 'AİSC': 1, 'İSCÇ': 1, 'SCÇS': 1, 'CÇSR': 1, 'ÇSRA': 1, 'SRAY': 1, 'RAYK': 1, 'AYKO': 1, 'JÜTK': 1, 'ÜTKM': 1, 'TKMJ': 1, 'KMJÜ': 1, 'MJÜJ': 1, 'ÜJKV': 1, 'HMJD': 1, 'MJDÇ': 1, 'JDÇL': 1, 'DÇLS': 1, 'ÇLSN': 1, 'LSNH': 1, 'SNHZ': 1, 'NHZS': 1, 'HZSN': 1, 'ZSNI': 1, 'SNIP': 1, 'NIPE': 1, 'IPEÜ': 1, 'PEÜM': 1, 'EÜMK': 1, 'ÜMKİ': 1, 'MKİK': 1, 'KİKG': 1, 'İKGÜ': 1, 'KGÜJ': 1, 'GÜJK': 1, 'ÜJKT': 1, 'JKTK': 1, 'KTKŞ': 1, 'TKŞK': 1, 'KŞKE': 1, 'ŞKEI': 1, 'KEIZ': 1, 'EIZF': 1, 'IZFZ': 1, 'ZFZF': 1, 'FZFŞ': 1, 'ZFŞÜ': 1, 'NÜEI': 1, 'ÜEIZ': 1, 'EIZJ': 1, 'IZJF': 1, 'ZJFT': 1, 'JFTF': 1, 'FTFŞ': 1, 'TFŞF': 1, 'FŞFG': 1, 'ŞFGÜ': 1, 'FGÜZ': 1, 'GÜZK': 1, 'ÜZKŞ': 1})\n"
          ]
        }
      ],
      "source": [
        "from collections import Counter\n",
        "\n",
        "# Function to calculate frequencies of monograms, digraphs, trigraphs, forthgraphs\n",
        "def get_frequencies(text):\n",
        "    # Remove any characters that are not in the Turkish alphabet\n",
        "    turkish_alphabet = \"ABCÇDEFGĞHIİJKLKMNOPRSŞTUÜVYZ\"\n",
        "\n",
        "    # Split the text into words (using spaces as word boundaries)\n",
        "    words = text.split()\n",
        "\n",
        "    # Initialize counters for the letter sequences\n",
        "    monograms = Counter()\n",
        "    digraphs = Counter()\n",
        "    trigraphs = Counter()\n",
        "    forthgraphs = Counter()\n",
        "\n",
        "    # Iterate over each word in the text\n",
        "    for word in words:\n",
        "        # Remove any non-Turkish alphabet characters from the word\n",
        "        filtered_word = ''.join([char for char in word if char in turkish_alphabet])\n",
        "\n",
        "        # Frequency of Monograms (Single letters)\n",
        "        monograms.update(filtered_word)\n",
        "\n",
        "        # Frequency of Digraphs (Two letters)\n",
        "        digraphs.update(filtered_word[i:i+2] for i in range(len(filtered_word)-1))\n",
        "\n",
        "        # Frequency of Trigraphs (Three letters)\n",
        "        trigraphs.update(filtered_word[i:i+3] for i in range(len(filtered_word)-2))\n",
        "\n",
        "        # Frequency of Forthgraphs (Four letters)\n",
        "        forthgraphs.update(filtered_word[i:i+4] for i in range(len(filtered_word)-3))\n",
        "\n",
        "    return monograms, digraphs, trigraphs, forthgraphs\n",
        "\n",
        "# Your input text\n",
        "input_text = \"\"\"\n",
        "DMSVKMKZNKÖ\n",
        "IGMÜ ŞKJKGÜNHZJD SMKRÜ JHTSMMAÇMSJÜJKŞSZLLSUİSÖACÜÇKÖÜ\n",
        "JÜŞÜÇ KNLKGHZ NDÖHÖDN\n",
        "IGMÜ VSÇSMAŞJÜJK SMKRÜ KUÜJK KUÜJK HMDZJKGÜGSÖALMSJ AİÜG GSÖKÖÜNIGMFGHZNSŞHÖD\n",
        "JÜŞÜÇ KNLKGHZ DŞPSLÜÖKÇKNK JÜSGÖ AİSCÇSRAYKO JÜSGÖ AİÜG JÜTKMJÜJKV\n",
        "IGMÜ HMJDÇLSÖNHÖZSNIPEÜMKİKGÜJKTKŞKEIZFZFŞÖÜ\n",
        "JÜŞÜÇ NÜEIZJFTFŞFGÜZKŞ JÜŞÜÇ\n",
        "\"\"\"\n",
        "\n",
        "# Get frequencies of Monograms, Digraphs, Trigraphs, and Forthgraphs\n",
        "monograms, digraphs, trigraphs, forthgraphs = get_frequencies(input_text)\n",
        "\n",
        "# Print the frequencies\n",
        "print(\"Monogram Frequencies:\")\n",
        "print(monograms)\n",
        "\n",
        "print(\"\\nDigraph Frequencies:\")\n",
        "print(digraphs)\n",
        "\n",
        "print(\"\\nTrigraph Frequencies:\")\n",
        "print(trigraphs)\n",
        "\n",
        "print(\"\\nForthgraph Frequencies:\")\n",
        "print(forthgraphs)\n"
      ]
    }
  ]
}