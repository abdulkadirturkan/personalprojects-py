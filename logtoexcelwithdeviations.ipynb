{
 "cells": [
  {
   "cell_type": "code",
   "execution_count": 1,
   "id": "492b5ef8",
   "metadata": {},
   "outputs": [],
   "source": [
    "import os\n",
    "import re\n",
    "from openpyxl import Workbook, load_workbook"
   ]
  },
  {
   "cell_type": "code",
   "execution_count": 7,
   "id": "2be5f527",
   "metadata": {},
   "outputs": [],
   "source": [
    "# Define paths\n",
    "log_path = r\"D:\\Yüksek Lisans\\Paralel Programlama\\makale\\logs\\new 4.5\\serial\\gaussian_filter_results100.log\"\n",
    "excel_path = r\"D:\\Yüksek Lisans\\Paralel Programlama\\makale\\logs\\new 4.5\\filter_results.xlsx\"\n",
    "parent_dir = os.path.basename(os.path.dirname(log_path))\n",
    "filename = os.path.splitext(os.path.basename(log_path))[0]\n",
    "sheet_name = f\"{parent_dir}_{filename}\"  # e.g., 'unset_mean_filter_results100'"
   ]
  },
  {
   "cell_type": "code",
   "execution_count": 8,
   "id": "6cb0f3ae",
   "metadata": {},
   "outputs": [
    {
     "name": "stdout",
     "output_type": "stream",
     "text": [
      "Found 5 entries.\n",
      "✅ Data written to 'D:\\Yüksek Lisans\\Paralel Programlama\\makale\\logs\\new 4.5\\filter_results.xlsx' in sheet 'serial_gaussian_filter_results100'.\n"
     ]
    }
   ],
   "source": [
    "# Read log file\n",
    "with open(log_path, 'r', encoding='utf-8') as file:\n",
    "    content = file.read()\n",
    "\n",
    "# Updated regex pattern to include standard deviation\n",
    "pattern = re.compile(\n",
    "    r\"Filter:\\s*(\\w+)\\s*\\|\\s*Radius:\\s*(\\d+)\\s*\\|\\s*Threads:\\s*(\\d+)\\s*\\n\"\n",
    "    r\"Runs:\\s*(\\d+)\\s*\\n\"\n",
    "    r\"Program-reported time:\\s*\\n\"\n",
    "    r\"\\s*Min:\\s*\\.?([\\d.]+)\\s*s\\s*\\n\"\n",
    "    r\"\\s*Max:\\s*\\.?([\\d.]+)\\s*s\\s*\\n\"\n",
    "    r\"\\s*Avg:\\s*\\.?([\\d.]+)\\s*s\\s*\\n\"\n",
    "    r\"\\s*Std:\\s*\\.?([\\d.]+)\\s*s\\s*\\n\"\n",
    "    r\"Wall-clock time:\\s*\\n\"\n",
    "    r\"\\s*Min:\\s*\\.?([\\d.]+)\\s*s\\s*\\n\"\n",
    "    r\"\\s*Max:\\s*\\.?([\\d.]+)\\s*s\\s*\\n\"\n",
    "    r\"\\s*Avg:\\s*\\.?([\\d.]+)\\s*s\\s*\\n\"\n",
    "    r\"\\s*Std:\\s*\\.?([\\d.]+)\\s*s\",\n",
    "    re.MULTILINE\n",
    ")\n",
    "\n",
    "# Split content by the separator lines to handle multiple entries\n",
    "entries = re.split(r'=+\\n', content)\n",
    "matches = []\n",
    "\n",
    "for entry in entries:\n",
    "    match = pattern.search(entry)\n",
    "    if match:\n",
    "        matches.append(match.groups())\n",
    "\n",
    "if not matches:\n",
    "    print(\"No data found in the log file.\")\n",
    "else:\n",
    "    print(f\"Found {len(matches)} entries.\")\n",
    "\n",
    "# Load or create Excel workbook\n",
    "if os.path.exists(excel_path):\n",
    "    wb = load_workbook(excel_path)\n",
    "else:\n",
    "    wb = Workbook()\n",
    "\n",
    "# Create or access the worksheet\n",
    "if sheet_name not in wb.sheetnames:\n",
    "    ws = wb.create_sheet(title=sheet_name)\n",
    "    ws.append([\n",
    "        \"Filter\", \"Radius\", \"Threads\", \"Runs\",\n",
    "        \"Prog Min (s)\", \"Prog Max (s)\", \"Prog Avg (s)\", \"Prog Std (s)\",\n",
    "        \"Wall Min (s)\", \"Wall Max (s)\", \"Wall Avg (s)\", \"Wall Std (s)\"\n",
    "    ])\n",
    "else:\n",
    "    ws = wb[sheet_name]\n",
    "\n",
    "# Append parsed data\n",
    "for match in matches:\n",
    "    ws.append([\n",
    "        match[0],                 # Filter\n",
    "        int(match[1]),            # Radius\n",
    "        int(match[2]),            # Threads\n",
    "        int(match[3]),            # Runs\n",
    "        float(match[4]),          # Prog Min\n",
    "        float(match[5]),          # Prog Max\n",
    "        float(match[6]),          # Prog Avg\n",
    "        float(match[7]),          # Prog Std\n",
    "        float(match[8]),          # Wall Min\n",
    "        float(match[9]),          # Wall Max\n",
    "        float(match[10]),         # Wall Avg\n",
    "        float(match[11]),         # Wall Std\n",
    "    ])\n",
    "\n",
    "# Save Excel file\n",
    "wb.save(excel_path)\n",
    "print(f\"✅ Data written to '{excel_path}' in sheet '{sheet_name}'.\")"
   ]
  }
 ],
 "metadata": {
  "kernelspec": {
   "display_name": "myenv",
   "language": "python",
   "name": "python3"
  },
  "language_info": {
   "codemirror_mode": {
    "name": "ipython",
    "version": 3
   },
   "file_extension": ".py",
   "mimetype": "text/x-python",
   "name": "python",
   "nbconvert_exporter": "python",
   "pygments_lexer": "ipython3",
   "version": "3.8.19"
  }
 },
 "nbformat": 4,
 "nbformat_minor": 5
}
