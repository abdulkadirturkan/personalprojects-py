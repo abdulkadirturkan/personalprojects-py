{
  "nbformat": 4,
  "nbformat_minor": 0,
  "metadata": {
    "colab": {
      "provenance": [],
      "authorship_tag": "ABX9TyO0/tuIBhboEw+jIJy5Z32F",
      "include_colab_link": true
    },
    "kernelspec": {
      "name": "python3",
      "display_name": "Python 3"
    },
    "language_info": {
      "name": "python"
    }
  },
  "cells": [
    {
      "cell_type": "markdown",
      "metadata": {
        "id": "view-in-github",
        "colab_type": "text"
      },
      "source": [
        "<a href=\"https://colab.research.google.com/github/abdulkadirturkan/personalprojects-py/blob/main/AdditiveCipher.ipynb\" target=\"_parent\"><img src=\"https://colab.research.google.com/assets/colab-badge.svg\" alt=\"Open In Colab\"/></a>"
      ]
    },
    {
      "cell_type": "code",
      "execution_count": null,
      "metadata": {
        "id": "VTC6-KzjsBU5"
      },
      "outputs": [],
      "source": [
        "# Function to shift characters in the Turkish alphabet by a specified number\n",
        "def shift_text(text, shift_amount):\n",
        "    turkish_alphabet = \"ABCÇDEFGĞHIİJKLKMNOPRSŞTUÜVYZ\"\n",
        "    shifted_text = []\n",
        "\n",
        "    for char in text:\n",
        "        if char in turkish_alphabet:\n",
        "            # Find the index of the character in the Turkish alphabet\n",
        "            idx = turkish_alphabet.index(char)\n",
        "            # Shift the letter by the specified number of positions\n",
        "            shifted_idx = (idx + shift_amount) % len(turkish_alphabet)\n",
        "            shifted_text.append(turkish_alphabet[shifted_idx])\n",
        "        else:\n",
        "            # If the character is not in the alphabet, just append it as it is\n",
        "            shifted_text.append(char)\n",
        "\n",
        "    # Return the shifted text as a string\n",
        "    return ''.join(shifted_text)\n"
      ]
    },
    {
      "cell_type": "code",
      "source": [
        "# Your input text\n",
        "input_text = \"DMSVKMKZNKÖIGMÜŞKJKGÜNHZJDSMKRÜJHTSMMAÇMSJÜJKŞSZLLSUİSÖACÜÇKÖÜJÜŞÜÇKNLKGHZNDÖHÖDNIGMÜVSÇSMAŞJÜJKSMKRÜKUÜJKKUÜJKHMDZJKGÜGSÖALMSJAİÜGGSÖKÖÜNIGMFGHZNSŞHÖDJÜŞÜÇKNLKGHZDŞPSLÜÖKÇKNKJÜSGÖAİSCÇSRAYKOJÜSGÖAİÜGJÜTKMJÜJKVIGMÜHMJDÇLSÖNHÖZSNIPEÜMKİKGÜJKTKŞKEIZFZFŞÖÜJÜŞÜÇNÜEIZJFTFŞFGÜZKŞJÜŞÜÇ\"\n",
        "\n",
        "# Set the shift amount (can be any number, like 1, 2, 29, etc.)\n",
        "shift_amount = 29\n",
        "\n",
        "# Call the function to shift the text\n",
        "shifted_text = shift_text(input_text, shift_amount)\n",
        "\n",
        "# Print the result\n",
        "print(f\"Original Text: {input_text}\")\n",
        "print(f\"Shifted Text by {shift_amount} positions: {shifted_text}\")\n"
      ],
      "metadata": {
        "colab": {
          "base_uri": "https://localhost:8080/"
        },
        "id": "V1LgV3iytQi3",
        "outputId": "052d19fb-40fc-4db7-8708-1da81ae32e80"
      },
      "execution_count": null,
      "outputs": [
        {
          "output_type": "stream",
          "name": "stdout",
          "text": [
            "Original Text: DMSVKMKZNKÖIGMÜŞKJKGÜNHZJDSMKRÜJHTSMMAÇMSJÜJKŞSZLLSUİSÖACÜÇKÖÜJÜŞÜÇKNLKGHZNDÖHÖDNIGMÜVSÇSMAŞJÜJKSMKRÜKUÜJKKUÜJKHMDZJKGÜGSÖALMSJAİÜGGSÖKÖÜNIGMFGHZNSŞHÖDJÜŞÜÇKNLKGHZDŞPSLÜÖKÇKNKJÜSGÖAİSCÇSRAYKOJÜSGÖAİÜGJÜTKMJÜJKVIGMÜHMJDÇLSÖNHÖZSNIPEÜMKİKGÜJKTKŞKEIZFZFŞÖÜJÜŞÜÇNÜEIZJFTFŞFGÜZKŞJÜŞÜÇ\n",
            "Shifted Text by 29 positions: DMSVKMKZNKÖIGMÜŞKJKGÜNHZJDSMKRÜJHTSMMAÇMSJÜJKŞSZLLSUİSÖACÜÇKÖÜJÜŞÜÇKNLKGHZNDÖHÖDNIGMÜVSÇSMAŞJÜJKSMKRÜKUÜJKKUÜJKHMDZJKGÜGSÖALMSJAİÜGGSÖKÖÜNIGMFGHZNSŞHÖDJÜŞÜÇKNLKGHZDŞPSLÜÖKÇKNKJÜSGÖAİSCÇSRAYKOJÜSGÖAİÜGJÜTKMJÜJKVIGMÜHMJDÇLSÖNHÖZSNIPEÜMKİKGÜJKTKŞKEIZFZFŞÖÜJÜŞÜÇNÜEIZJFTFŞFGÜZKŞJÜŞÜÇ\n"
          ]
        }
      ]
    }
  ]
}