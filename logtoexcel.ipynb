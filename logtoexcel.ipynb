{
  "cells": [
    {
      "cell_type": "code",
      "execution_count": 1,
      "metadata": {},
      "outputs": [
        {
          "name": "stdout",
          "output_type": "stream",
          "text": [
            "Requirement already satisfied: openpyxl in d:\\programfiles\\anaconda\\envs\\myenv\\lib\\site-packages (3.1.5)\n",
            "Requirement already satisfied: et-xmlfile in d:\\programfiles\\anaconda\\envs\\myenv\\lib\\site-packages (from openpyxl) (2.0.0)\n",
            "Note: you may need to restart the kernel to use updated packages.\n"
          ]
        }
      ],
      "source": [
        "pip install openpyxl"
      ]
    },
    {
      "cell_type": "code",
      "execution_count": 17,
      "metadata": {
        "colab": {
          "base_uri": "https://localhost:8080/",
          "height": 107
        },
        "id": "GmWp9ryoOYMQ",
        "outputId": "74735231-7023-4a0f-ec9b-80291a4a6ed0"
      },
      "outputs": [],
      "source": [
        "import os\n",
        "\n",
        "# Define paths\n",
        "log_path = r\"D:\\Yüksek Lisans\\Paralel Programlama\\makale\\logs\\mode_filter_results.log\"\n",
        "excel_path = r\"D:\\Yüksek Lisans\\Paralel Programlama\\makale\\logs\\filter_results.xlsx\"\n",
        "sheet_name = os.path.splitext(os.path.basename(log_path))[0]  # e.g., 'gaussian_filter_results'"
      ]
    },
    {
      "cell_type": "code",
      "execution_count": 18,
      "metadata": {},
      "outputs": [
        {
          "name": "stdout",
          "output_type": "stream",
          "text": [
            "Found 70 entries.\n",
            "First entry: ('mode', '3', '2', '2.0717', '3')\n"
          ]
        }
      ],
      "source": [
        "import re\n",
        "\n",
        "# Read log content\n",
        "with open(log_path, 'r') as file:\n",
        "    content = file.read()\n",
        "\n",
        "# Extract data using regex\n",
        "pattern = re.compile(\n",
        "    r\"Filter:\\s*(\\w+)\\s*\\|\\s*Radius:\\s*(\\d+)\\s*\\|\\s*Threads:\\s*(\\d+)\\s*\\n\"\n",
        "    r\"Filtering completed in ([\\d.]+) seconds\\.\\n\"\n",
        "    r\"Wall-clock time:\\s*(\\d+)\\s*seconds\",\n",
        "    re.MULTILINE\n",
        ")\n",
        "\n",
        "matches = pattern.findall(content)\n",
        "\n",
        "# Check result\n",
        "if not matches:\n",
        "    print(\"No data found in the log file.\")\n",
        "else:\n",
        "    print(f\"Found {len(matches)} entries.\")\n",
        "    print(\"First entry:\", matches[0])\n"
      ]
    },
    {
      "cell_type": "code",
      "execution_count": 19,
      "metadata": {},
      "outputs": [
        {
          "name": "stdout",
          "output_type": "stream",
          "text": [
            "✅ Data written to 'D:\\Yüksek Lisans\\Paralel Programlama\\makale\\logs\\filter_results.xlsx' in sheet 'mode_filter_results'.\n"
          ]
        }
      ],
      "source": [
        "from openpyxl import Workbook, load_workbook\n",
        "\n",
        "# Load or create workbook\n",
        "if os.path.exists(excel_path):\n",
        "    wb = load_workbook(excel_path)\n",
        "else:\n",
        "    wb = Workbook()\n",
        "\n",
        "# Create or access the sheet\n",
        "if sheet_name not in wb.sheetnames:\n",
        "    ws = wb.create_sheet(title=sheet_name)\n",
        "    ws.append([\"Filter\", \"Radius\", \"Threads\", \"Time (s)\", \"Wall-clock Time (s)\"])\n",
        "else:\n",
        "    ws = wb[sheet_name]\n",
        "\n",
        "# Append parsed data\n",
        "for match in matches:\n",
        "    ws.append([match[0], int(match[1]), int(match[2]), float(match[3]), int(match[4])])\n",
        "\n",
        "# Save workbook\n",
        "wb.save(excel_path)\n",
        "print(f\"✅ Data written to '{excel_path}' in sheet '{sheet_name}'.\")\n"
      ]
    },
    {
      "cell_type": "code",
      "execution_count": null,
      "metadata": {},
      "outputs": [
        {
          "name": "stdout",
          "output_type": "stream",
          "text": [
            "Found 30 entries.\n",
            "First entry: ('mean', '3', '', '0.883862', '2')\n",
            "✅ Data written to 'D:\\Yüksek Lisans\\Paralel Programlama\\makale\\logs\\filter_results.xlsx' in sheet 'filter_results'.\n"
          ]
        }
      ],
      "source": [
        "#ONLY FOR SERIAL ONE\n",
        "import os\n",
        "import re\n",
        "from openpyxl import Workbook, load_workbook\n",
        "\n",
        "# Define paths\n",
        "log_path = r\"D:\\Yüksek Lisans\\Paralel Programlama\\makale\\logs\\filter_results.log\"\n",
        "excel_path = r\"D:\\Yüksek Lisans\\Paralel Programlama\\makale\\logs\\filter_results.xlsx\"\n",
        "sheet_name = os.path.splitext(os.path.basename(log_path))[0]\n",
        "\n",
        "# Read log content\n",
        "with open(log_path, 'r') as file:\n",
        "    content = file.read()\n",
        "\n",
        "# Updated regex pattern to handle optional Threads field\n",
        "pattern = re.compile(\n",
        "    r\"Filter:\\s*(\\w+)\\s*\\|\\s*Radius:\\s*(\\d+)(?:\\s*\\|\\s*Threads:\\s*(\\d+))?\\s*\\n\"\n",
        "    r\"Filtering completed in ([\\d.]+) seconds\\.\\n\"\n",
        "    r\"Wall-clock time:\\s*(\\d+)\\s*seconds\",\n",
        "    re.MULTILINE\n",
        ")\n",
        "\n",
        "matches = pattern.findall(content)\n",
        "\n",
        "# Check result\n",
        "if not matches:\n",
        "    print(\"No data found in the log file.\")\n",
        "else:\n",
        "    print(f\"Found {len(matches)} entries.\")\n",
        "    print(\"First entry:\", matches[0])\n",
        "\n",
        "# Load or create workbook\n",
        "if os.path.exists(excel_path):\n",
        "    wb = load_workbook(excel_path)\n",
        "else:\n",
        "    wb = Workbook()\n",
        "\n",
        "# Create or access the sheet\n",
        "if sheet_name not in wb.sheetnames:\n",
        "    ws = wb.create_sheet(title=sheet_name)\n",
        "    ws.append([\"Filter\", \"Radius\", \"Threads\", \"Time (s)\", \"Wall-clock Time (s)\"])\n",
        "else:\n",
        "    ws = wb[sheet_name]\n",
        "\n",
        "# Append parsed data\n",
        "for match in matches:\n",
        "    filter_name = match[0]\n",
        "    radius = int(match[1])\n",
        "    threads = int(match[2]) if match[2] else \"-\"\n",
        "    time_sec = float(match[3])\n",
        "    wall_clock = int(match[4])\n",
        "    \n",
        "    ws.append([filter_name, radius, threads, time_sec, wall_clock])\n",
        "\n",
        "# Save workbook\n",
        "wb.save(excel_path)\n",
        "print(f\"✅ Data written to '{excel_path}' in sheet '{sheet_name}'.\")\n"
      ]
    }
  ],
  "metadata": {
    "colab": {
      "provenance": []
    },
    "kernelspec": {
      "display_name": "myenv",
      "language": "python",
      "name": "python3"
    },
    "language_info": {
      "codemirror_mode": {
        "name": "ipython",
        "version": 3
      },
      "file_extension": ".py",
      "mimetype": "text/x-python",
      "name": "python",
      "nbconvert_exporter": "python",
      "pygments_lexer": "ipython3",
      "version": "3.8.19"
    }
  },
  "nbformat": 4,
  "nbformat_minor": 0
}
