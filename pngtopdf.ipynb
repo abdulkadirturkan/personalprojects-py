{
 "cells": [
  {
   "cell_type": "code",
   "execution_count": 1,
   "id": "8460c62d",
   "metadata": {},
   "outputs": [
    {
     "name": "stdout",
     "output_type": "stream",
     "text": [
      "Converted efficiency_gaussian.png to PDF.\n",
      "Converted efficiency_gaussian1D.png to PDF.\n",
      "Converted efficiency_mean.png to PDF.\n",
      "Converted efficiency_mean1D.png to PDF.\n",
      "Converted efficiency_median.png to PDF.\n",
      "Converted efficiency_mode.png to PDF.\n",
      "Converted runtime_gaussian.png to PDF.\n",
      "Converted runtime_gaussian1D.png to PDF.\n",
      "Converted runtime_mean.png to PDF.\n",
      "Converted runtime_mean1D.png to PDF.\n",
      "Converted runtime_median.png to PDF.\n",
      "Converted runtime_mode.png to PDF.\n",
      "Converted speedup_gaussian.png to PDF.\n",
      "Converted speedup_gaussian1D.png to PDF.\n",
      "Converted speedup_mean.png to PDF.\n",
      "Converted speedup_mean1D.png to PDF.\n",
      "Converted speedup_median.png to PDF.\n",
      "Converted speedup_mode.png to PDF.\n"
     ]
    }
   ],
   "source": [
    "#Multiply insert the directory position\n",
    "import os\n",
    "from PIL import Image\n",
    "\n",
    "# Define the folder path where your PNGs are stored\n",
    "folder_path = \"D:\\\\Yüksek Lisans\\\\Paralel Programlama\\\\makale\\\\runtime\\\\\"\n",
    "\n",
    "# List all PNG files in the directory\n",
    "png_files = [f for f in os.listdir(folder_path) if f.endswith('.png')]\n",
    "\n",
    "# Loop through all PNG files and convert them to PDFs\n",
    "for png_file in png_files:\n",
    "    # Build the full path for the PNG file\n",
    "    png_path = os.path.join(folder_path, png_file)\n",
    "    \n",
    "    # Open the PNG image\n",
    "    img = Image.open(png_path)\n",
    "    \n",
    "    # Define the output PDF path (same name, just with .pdf extension)\n",
    "    pdf_path = os.path.join(folder_path, os.path.splitext(png_file)[0] + '.pdf')\n",
    "    \n",
    "    # Save the image as a PDF\n",
    "    img.save(pdf_path, \"PDF\", resolution=100.0)\n",
    "    \n",
    "    print(f\"Converted {png_file} to PDF.\")\n"
   ]
  },
  {
   "cell_type": "code",
   "execution_count": null,
   "id": "dc0185e3",
   "metadata": {},
   "outputs": [
    {
     "name": "stdout",
     "output_type": "stream",
     "text": [
      "Converted D:\\Yüksek Lisans\\Paralel Programlama\\makale\\images\\a5000-kme_0204.tif to PNG and PDF successfully!\n"
     ]
    }
   ],
   "source": [
    "#Singular\n",
    "\n",
    "# Define the path for the input TIFF image\n",
    "tiff_path  = r\"D:\\Yüksek Lisans\\Paralel Programlama\\makale\\images\\a5000-kme_0204.tif\"\n",
    "\n",
    "# Open the TIFF image\n",
    "img = Image.open(tiff_path)\n",
    "\n",
    "# Save as PNG (lossless format, no quality loss)\n",
    "png_path = tiff_path.replace('.tif', '.png')  # Replace extension to save as PNG\n",
    "img.save(png_path, \"PNG\")\n",
    "\n",
    "# Save as PDF (lossless, retains quality)\n",
    "pdf_path = tiff_path.replace('.tif', '.pdf')  # Replace extension to save as PDF\n",
    "img.save(pdf_path, \"PDF\", resolution=100.0)  # You can adjust resolution if needed\n",
    "\n",
    "print(f\"Converted {tiff_path} to PNG and PDF successfully!\")\n"
   ]
  }
 ],
 "metadata": {
  "kernelspec": {
   "display_name": "myenv",
   "language": "python",
   "name": "python3"
  },
  "language_info": {
   "codemirror_mode": {
    "name": "ipython",
    "version": 3
   },
   "file_extension": ".py",
   "mimetype": "text/x-python",
   "name": "python",
   "nbconvert_exporter": "python",
   "pygments_lexer": "ipython3",
   "version": "3.8.19"
  }
 },
 "nbformat": 4,
 "nbformat_minor": 5
}
